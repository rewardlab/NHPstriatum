{
 "cells": [
  {
   "cell_type": "code",
   "execution_count": 1,
   "metadata": {},
   "outputs": [
    {
     "name": "stderr",
     "output_type": "stream",
     "text": [
      "/home/jih8/anaconda3/lib/python3.7/site-packages/anndata/core/anndata.py:17: FutureWarning: pandas.core.index is deprecated and will be removed in a future version.  The public classes are available in the top-level namespace.\n",
      "  from pandas.core.index import RangeIndex\n"
     ]
    },
    {
     "name": "stdout",
     "output_type": "stream",
     "text": [
      "scanpy==1.4.3 anndata==0.6.22.post1 umap==0.3.9 numpy==1.16.2 scipy==1.2.1 pandas==1.1.2 scikit-learn==0.20.3 statsmodels==0.9.0 python-igraph==0.7.1 louvain==0.6.1 \n"
     ]
    }
   ],
   "source": [
    "import scanpy as sc\n",
    "import anndata\n",
    "from anndata import AnnData\n",
    "import pandas as pd\n",
    "import numpy as np\n",
    "import matplotlib.pyplot as plt\n",
    "from scipy.stats import mode\n",
    "from collections import Counter\n",
    "import seaborn as sns\n",
    "sc.settings.verbosity = 0\n",
    "sc.settings.set_figure_params(dpi=150, color_map='viridis')\n",
    "sc.logging.print_versions()"
   ]
  },
  {
   "cell_type": "code",
   "execution_count": 3,
   "metadata": {},
   "outputs": [
    {
     "data": {
      "text/plain": [
       "'/pylon5/mc5plqp/jih8/Peanut_b2/Peanut_Fiona/My_pipline/DataIntegration/SoupX'"
      ]
     },
     "execution_count": 3,
     "metadata": {},
     "output_type": "execute_result"
    }
   ],
   "source": [
    "pwd"
   ]
  },
  {
   "cell_type": "code",
   "execution_count": 4,
   "metadata": {},
   "outputs": [
    {
     "data": {
      "text/plain": [
       "AnnData object with n_obs × n_vars = 80902 × 53573 \n",
       "    obs: 'batch', 'cell_id', 'sample_names', 'regions', 'doublet'\n",
       "    var: 'gene_ids-0', 'gene_ids-1', 'gene_ids-2', 'gene_ids-3', 'gene_ids-4', 'gene_ids-5', 'gene_ids-6', 'feature_types-6', 'gene_ids-7', 'feature_types-7', 'gene_ids-8', 'feature_types-8'"
      ]
     },
     "execution_count": 4,
     "metadata": {},
     "output_type": "execute_result"
    }
   ],
   "source": [
    "raw_adata = anndata.read_h5ad('/pylon5/mc5plqp/jih8/Peanut_b2/Peanut_Fiona/My_pipline/raw_adata_afterDB_beforePre_SoupX.h5ad')\n",
    "raw_adata"
   ]
  },
  {
   "cell_type": "code",
   "execution_count": 5,
   "metadata": {},
   "outputs": [
    {
     "data": {
      "text/plain": [
       "AnnData object with n_obs × n_vars = 80902 × 53573 \n",
       "    obs: 'batch', 'cell_id', 'sample_names', 'regions', 'doublet', 'tech'\n",
       "    var: 'gene_ids-0', 'gene_ids-1', 'gene_ids-2', 'gene_ids-3', 'gene_ids-4', 'gene_ids-5', 'gene_ids-6', 'feature_types-6', 'gene_ids-7', 'feature_types-7', 'gene_ids-8', 'feature_types-8'"
      ]
     },
     "execution_count": 5,
     "metadata": {},
     "output_type": "execute_result"
    }
   ],
   "source": [
    "#give another colum \n",
    "sample_ids = list(map(int,raw_adata.obs['batch']))\n",
    "monkey_names = ['Penut','Penut','Penut','Penut','Penut','Penut','Fiona','Fiona','Fiona']\n",
    "monkey_names = pd.Series([monkey_names[sample_id] for sample_id in sample_ids])\n",
    "raw_adata.obs['tech'] = list(monkey_names)\n",
    "raw_adata"
   ]
  },
  {
   "cell_type": "code",
   "execution_count": 7,
   "metadata": {},
   "outputs": [
    {
     "data": {
      "text/plain": [
       "AnnData object with n_obs × n_vars = 80902 × 53573 \n",
       "    obs: 'batch', 'cell_id', 'sample_names', 'regions', 'doublet', 'tech', 'regions_1'\n",
       "    var: 'gene_ids-0', 'gene_ids-1', 'gene_ids-2', 'gene_ids-3', 'gene_ids-4', 'gene_ids-5', 'gene_ids-6', 'feature_types-6', 'gene_ids-7', 'feature_types-7', 'gene_ids-8', 'feature_types-8'"
      ]
     },
     "execution_count": 7,
     "metadata": {},
     "output_type": "execute_result"
    }
   ],
   "source": [
    "#give another colum \n",
    "sample_ids = list(map(int,raw_adata.obs['batch']))\n",
    "region_names = ['caudate','nacc','putamen','caudate','nacc','putamen','nacc_Fiona','caudate_Fiona','putamen_Fiona']\n",
    "region_names = pd.Series([region_names[sample_id] for sample_id in sample_ids])\n",
    "raw_adata.obs['regions_1'] = list(region_names)\n",
    "raw_adata"
   ]
  },
  {
   "cell_type": "code",
   "execution_count": 8,
   "metadata": {},
   "outputs": [
    {
     "data": {
      "text/plain": [
       "AnnData object with n_obs × n_vars = 80902 × 53573 \n",
       "    obs: 'batch', 'cell_id', 'sample_names', 'regions', 'doublet', 'tech', 'regions_1', 'regions_2'\n",
       "    var: 'gene_ids-0', 'gene_ids-1', 'gene_ids-2', 'gene_ids-3', 'gene_ids-4', 'gene_ids-5', 'gene_ids-6', 'feature_types-6', 'gene_ids-7', 'feature_types-7', 'gene_ids-8', 'feature_types-8'"
      ]
     },
     "execution_count": 8,
     "metadata": {},
     "output_type": "execute_result"
    }
   ],
   "source": [
    "#give another colum \n",
    "sample_ids = list(map(int,raw_adata.obs['batch']))\n",
    "region_names = ['caudate','nacc','putamen','caudate','nacc','putamen','nacc','caudate','putamen']\n",
    "region_names = pd.Series([region_names[sample_id] for sample_id in sample_ids])\n",
    "raw_adata.obs['regions_2'] = list(region_names)\n",
    "raw_adata"
   ]
  },
  {
   "cell_type": "code",
   "execution_count": 9,
   "metadata": {},
   "outputs": [
    {
     "name": "stderr",
     "output_type": "stream",
     "text": [
      "/home/jih8/anaconda3/lib/python3.7/site-packages/anndata/core/anndata.py:1239: FutureWarning: is_categorical is deprecated and will be removed in a future version.  Use is_categorical_dtype instead\n",
      "  if is_categorical(df_full[k]):\n"
     ]
    }
   ],
   "source": [
    "sc.pp.filter_cells(raw_adata, min_genes=200)"
   ]
  },
  {
   "cell_type": "code",
   "execution_count": 10,
   "metadata": {},
   "outputs": [],
   "source": [
    "sc.pp.filter_genes(raw_adata, min_cells=5)"
   ]
  },
  {
   "cell_type": "code",
   "execution_count": 11,
   "metadata": {},
   "outputs": [],
   "source": [
    "sc.pp.filter_genes(raw_adata, min_counts=15)"
   ]
  },
  {
   "cell_type": "code",
   "execution_count": 12,
   "metadata": {},
   "outputs": [],
   "source": [
    "mito_genes = raw_adata.var_names.str.startswith('MT-')\n",
    "# for each cell compute fraction of counts in mito genes vs. all genes\n",
    "# the `.A1` is only necessary as X is sparse (to transform to a dense array after summing)\n",
    "raw_adata.obs['percent.mt'] = np.sum(raw_adata[:, mito_genes].X, axis=1).A1 / np.sum(raw_adata.X, axis=1).A1\n",
    "# add the total counts per cell as observations-annotation to adata\n",
    "raw_adata.obs['nCount_RNA'] = raw_adata.X.sum(axis=1).A1"
   ]
  },
  {
   "cell_type": "code",
   "execution_count": 13,
   "metadata": {},
   "outputs": [
    {
     "data": {
      "text/plain": [
       "AnnData object with n_obs × n_vars = 80902 × 31657 \n",
       "    obs: 'batch', 'cell_id', 'sample_names', 'regions', 'doublet', 'tech', 'regions_1', 'regions_2', 'n_genes', 'percent.mt', 'nCount_RNA'\n",
       "    var: 'gene_ids-0', 'gene_ids-1', 'gene_ids-2', 'gene_ids-3', 'gene_ids-4', 'gene_ids-5', 'gene_ids-6', 'feature_types-6', 'gene_ids-7', 'feature_types-7', 'gene_ids-8', 'feature_types-8', 'n_cells', 'n_counts'"
      ]
     },
     "execution_count": 13,
     "metadata": {},
     "output_type": "execute_result"
    }
   ],
   "source": [
    "raw_adata"
   ]
  },
  {
   "cell_type": "code",
   "execution_count": 14,
   "metadata": {},
   "outputs": [
    {
     "data": {
      "text/plain": [
       "index\n",
       "CICP27           23.378494\n",
       "AP006222.1       62.885563\n",
       "MTND1P23         37.702255\n",
       "MTND2P28      12118.856445\n",
       "MTCO1P12       2463.187012\n",
       "                  ...     \n",
       "RPL18AP2        116.552849\n",
       "DIP2A         46272.921875\n",
       "S100B         16044.850586\n",
       "PRMT2         34363.785156\n",
       "DSTNP1           16.475237\n",
       "Name: n_counts, Length: 31657, dtype: float32"
      ]
     },
     "execution_count": 14,
     "metadata": {},
     "output_type": "execute_result"
    }
   ],
   "source": [
    "raw_adata.var['n_counts']"
   ]
  },
  {
   "cell_type": "code",
   "execution_count": 15,
   "metadata": {},
   "outputs": [
    {
     "data": {
      "text/plain": [
       "index\n",
       "CICP27           24\n",
       "AP006222.1       68\n",
       "MTND1P23         55\n",
       "MTND2P28      12047\n",
       "MTCO1P12       3717\n",
       "              ...  \n",
       "RPL18AP2        124\n",
       "DIP2A         30746\n",
       "S100B         17153\n",
       "PRMT2         29540\n",
       "DSTNP1           17\n",
       "Name: n_cells, Length: 31657, dtype: int64"
      ]
     },
     "execution_count": 15,
     "metadata": {},
     "output_type": "execute_result"
    }
   ],
   "source": [
    "raw_adata.var['n_cells']"
   ]
  },
  {
   "cell_type": "code",
   "execution_count": 16,
   "metadata": {},
   "outputs": [
    {
     "data": {
      "text/plain": [
       "index\n",
       "AAACCCAAGAGCGACT-1-0    9448.478516\n",
       "AAACCCACAAATACAG-1-0    4037.190918\n",
       "AAACCCACAAGGTTGG-1-0    2464.473145\n",
       "AAACCCACACGTTCGG-1-0     824.900513\n",
       "AAACCCACACTGGATT-1-0    5321.896973\n",
       "                           ...     \n",
       "TTTGTTGCATATTCGG-1-8    1540.000000\n",
       "TTTGTTGCATTCTGTT-1-8    2636.000000\n",
       "TTTGTTGGTCCCGTGA-1-8    1434.000000\n",
       "TTTGTTGGTCGCTGCA-1-8    3004.000000\n",
       "TTTGTTGGTCGTACAT-1-8    3567.000000\n",
       "Name: nCount_RNA, Length: 80902, dtype: float32"
      ]
     },
     "execution_count": 16,
     "metadata": {},
     "output_type": "execute_result"
    }
   ],
   "source": [
    "raw_adata.obs['nCount_RNA']"
   ]
  },
  {
   "cell_type": "code",
   "execution_count": 17,
   "metadata": {},
   "outputs": [
    {
     "name": "stdout",
     "output_type": "stream",
     "text": [
      "399\n"
     ]
    }
   ],
   "source": [
    "ribo_genes = raw_adata.var_names.str.startswith((\"RPS\",\"RPL\"))\n",
    "print(sum(ribo_genes))\n",
    "raw_adata.obs['percent_ribo'] = np.sum(raw_adata[:, ribo_genes].X, axis=1).A1 / np.sum(raw_adata.X, axis=1).A1"
   ]
  },
  {
   "cell_type": "code",
   "execution_count": 18,
   "metadata": {},
   "outputs": [],
   "source": [
    "raw_adata = raw_adata[:,~ribo_genes]"
   ]
  },
  {
   "cell_type": "code",
   "execution_count": 19,
   "metadata": {},
   "outputs": [
    {
     "data": {
      "text/plain": [
       "View of AnnData object with n_obs × n_vars = 80902 × 31258 \n",
       "    obs: 'batch', 'cell_id', 'sample_names', 'regions', 'doublet', 'tech', 'regions_1', 'regions_2', 'n_genes', 'percent.mt', 'nCount_RNA', 'percent_ribo'\n",
       "    var: 'gene_ids-0', 'gene_ids-1', 'gene_ids-2', 'gene_ids-3', 'gene_ids-4', 'gene_ids-5', 'gene_ids-6', 'feature_types-6', 'gene_ids-7', 'feature_types-7', 'gene_ids-8', 'feature_types-8', 'n_cells', 'n_counts'"
      ]
     },
     "execution_count": 19,
     "metadata": {},
     "output_type": "execute_result"
    }
   ],
   "source": [
    "raw_adata"
   ]
  },
  {
   "cell_type": "code",
   "execution_count": 20,
   "metadata": {},
   "outputs": [
    {
     "name": "stderr",
     "output_type": "stream",
     "text": [
      "/home/jih8/anaconda3/lib/python3.7/site-packages/anndata/core/anndata.py:1328: FutureWarning: is_categorical is deprecated and will be removed in a future version.  Use is_categorical_dtype instead\n",
      "  and not is_categorical(df[key])\n",
      "Trying to set attribute `.obs` of view, making a copy.\n",
      "... storing 'tech' as categorical\n",
      "Trying to set attribute `.obs` of view, making a copy.\n",
      "... storing 'regions_1' as categorical\n",
      "Trying to set attribute `.obs` of view, making a copy.\n",
      "... storing 'regions_2' as categorical\n",
      "/home/jih8/anaconda3/lib/python3.7/site-packages/anndata/core/anndata.py:108: FutureWarning: is_categorical is deprecated and will be removed in a future version.  Use is_categorical_dtype instead\n",
      "  elif is_categorical(df[k]):\n",
      "/home/jih8/anaconda3/lib/python3.7/site-packages/anndata/core/anndata.py:101: FutureWarning: is_categorical is deprecated and will be removed in a future version.  Use is_categorical_dtype instead\n",
      "  if is_string_dtype(df[k]) and not is_categorical(df[k]):\n"
     ]
    }
   ],
   "source": [
    "#AnnData.write(raw_adata, filename='/pylon5/mc5plqp/jih8/Peanut_b2/Peanut_Fiona/My_pipline/DataIntegration/SoupX/raw_adata_afterDB_SoupX_colomns_added.h5ad', compression=None, compression_opts=None, force_dense=None)"
   ]
  },
  {
   "cell_type": "code",
   "execution_count": null,
   "metadata": {},
   "outputs": [],
   "source": []
  },
  {
   "cell_type": "code",
   "execution_count": null,
   "metadata": {},
   "outputs": [],
   "source": []
  },
  {
   "cell_type": "code",
   "execution_count": null,
   "metadata": {},
   "outputs": [],
   "source": []
  },
  {
   "cell_type": "code",
   "execution_count": null,
   "metadata": {},
   "outputs": [],
   "source": []
  },
  {
   "cell_type": "code",
   "execution_count": null,
   "metadata": {},
   "outputs": [],
   "source": []
  },
  {
   "cell_type": "code",
   "execution_count": null,
   "metadata": {},
   "outputs": [],
   "source": []
  },
  {
   "cell_type": "code",
   "execution_count": null,
   "metadata": {},
   "outputs": [],
   "source": []
  },
  {
   "cell_type": "code",
   "execution_count": null,
   "metadata": {},
   "outputs": [],
   "source": []
  },
  {
   "cell_type": "code",
   "execution_count": null,
   "metadata": {},
   "outputs": [],
   "source": []
  },
  {
   "cell_type": "code",
   "execution_count": null,
   "metadata": {},
   "outputs": [],
   "source": []
  },
  {
   "cell_type": "code",
   "execution_count": null,
   "metadata": {},
   "outputs": [],
   "source": []
  },
  {
   "cell_type": "code",
   "execution_count": null,
   "metadata": {},
   "outputs": [],
   "source": []
  },
  {
   "cell_type": "code",
   "execution_count": null,
   "metadata": {},
   "outputs": [],
   "source": []
  },
  {
   "cell_type": "code",
   "execution_count": null,
   "metadata": {},
   "outputs": [],
   "source": []
  },
  {
   "cell_type": "code",
   "execution_count": null,
   "metadata": {},
   "outputs": [],
   "source": []
  },
  {
   "cell_type": "code",
   "execution_count": null,
   "metadata": {},
   "outputs": [],
   "source": []
  },
  {
   "cell_type": "code",
   "execution_count": null,
   "metadata": {},
   "outputs": [],
   "source": []
  },
  {
   "cell_type": "code",
   "execution_count": null,
   "metadata": {},
   "outputs": [],
   "source": []
  },
  {
   "cell_type": "code",
   "execution_count": null,
   "metadata": {},
   "outputs": [],
   "source": []
  },
  {
   "cell_type": "code",
   "execution_count": null,
   "metadata": {},
   "outputs": [],
   "source": []
  },
  {
   "cell_type": "code",
   "execution_count": null,
   "metadata": {},
   "outputs": [],
   "source": []
  },
  {
   "cell_type": "code",
   "execution_count": null,
   "metadata": {},
   "outputs": [],
   "source": []
  }
 ],
 "metadata": {
  "kernelspec": {
   "display_name": "Python 3",
   "language": "python",
   "name": "python3"
  },
  "language_info": {
   "codemirror_mode": {
    "name": "ipython",
    "version": 3
   },
   "file_extension": ".py",
   "mimetype": "text/x-python",
   "name": "python",
   "nbconvert_exporter": "python",
   "pygments_lexer": "ipython3",
   "version": "3.8.3"
  }
 },
 "nbformat": 4,
 "nbformat_minor": 2
}
