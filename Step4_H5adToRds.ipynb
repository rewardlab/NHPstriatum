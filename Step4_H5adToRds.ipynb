{
 "cells": [
  {
   "cell_type": "code",
   "execution_count": 2,
   "metadata": {},
   "outputs": [],
   "source": [
    "library(scater)\n",
    "library(Seurat)\n",
    "library(cowplot)\n",
    "library(hdf5r)\n",
    "library(loomR)"
   ]
  },
  {
   "cell_type": "code",
   "execution_count": 3,
   "metadata": {},
   "outputs": [
    {
     "data": {
      "text/html": [
       "'/pylon5/mc5plqp/jih8/Peanut_b2/Peanut_Fiona/My_pipline/DataIntegration/SoupX'"
      ],
      "text/latex": [
       "'/pylon5/mc5plqp/jih8/Peanut\\_b2/Peanut\\_Fiona/My\\_pipline/DataIntegration/SoupX'"
      ],
      "text/markdown": [
       "'/pylon5/mc5plqp/jih8/Peanut_b2/Peanut_Fiona/My_pipline/DataIntegration/SoupX'"
      ],
      "text/plain": [
       "[1] \"/pylon5/mc5plqp/jih8/Peanut_b2/Peanut_Fiona/My_pipline/DataIntegration/SoupX\""
      ]
     },
     "metadata": {},
     "output_type": "display_data"
    }
   ],
   "source": [
    "getwd()"
   ]
  },
  {
   "cell_type": "code",
   "execution_count": 4,
   "metadata": {},
   "outputs": [
    {
     "name": "stderr",
     "output_type": "stream",
     "text": [
      "Warning message:\n",
      "“Functionality for reading and writing H5AD files is being moved to SeuratDisk\n",
      "For more details, please see https://github.com/mojaveazure/seurat-disk\n",
      "and https://mojaveazure.github.io/seurat-disk/index.html”\n",
      "Pulling expression matrices and metadata\n",
      "\n",
      "Data is unscaled\n",
      "\n",
      "Creating assay object\n",
      "\n",
      "Storing X as raw and raw as counts\n",
      "\n",
      "No variable feature expression found in h5ad file\n",
      "\n",
      "No dimensional reduction information found\n",
      "\n",
      "Assembling Seurat object\n",
      "\n",
      "No nearest-neighbor graph\n",
      "\n",
      "No additional layers found\n",
      "\n"
     ]
    }
   ],
   "source": [
    "pbmc3k <- ReadH5AD(file = \"raw_adata_afterDB_SoupX_colomns_added.h5ad\")"
   ]
  },
  {
   "cell_type": "code",
   "execution_count": 5,
   "metadata": {},
   "outputs": [],
   "source": [
    "saveRDS(pbmc3k, file = \"raw_adata_afterDB_SoupX_colomns_added.rds\")"
   ]
  },
  {
   "cell_type": "code",
   "execution_count": null,
   "metadata": {},
   "outputs": [],
   "source": []
  }
 ],
 "metadata": {
  "kernelspec": {
   "display_name": "R",
   "language": "R",
   "name": "ir"
  },
  "language_info": {
   "codemirror_mode": "r",
   "file_extension": ".r",
   "mimetype": "text/x-r-source",
   "name": "R",
   "pygments_lexer": "r",
   "version": "3.6.1"
  }
 },
 "nbformat": 4,
 "nbformat_minor": 2
}
