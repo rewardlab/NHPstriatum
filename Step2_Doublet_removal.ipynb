{
 "cells": [
  {
   "cell_type": "code",
   "execution_count": 1,
   "metadata": {},
   "outputs": [
    {
     "name": "stdout",
     "output_type": "stream",
     "text": [
      "scanpy==1.4.3 anndata==0.6.22.post1 umap==0.3.9 numpy==1.16.2 scipy==1.2.1 pandas==0.23.4 scikit-learn==0.20.3 statsmodels==0.9.0 python-igraph==0.7.1 louvain==0.6.1 \n"
     ]
    }
   ],
   "source": [
    "import scanpy as sc\n",
    "import anndata\n",
    "from anndata import AnnData\n",
    "import pandas as pd\n",
    "import numpy as np\n",
    "import matplotlib.pyplot as plt\n",
    "from scipy.stats import mode\n",
    "from collections import Counter\n",
    "import seaborn as sns\n",
    "sc.settings.verbosity = 0 \n",
    "sc.settings.set_figure_params(dpi=150, color_map='viridis')  \n",
    "sc.logging.print_versions()"
   ]
  },
  {
   "cell_type": "code",
   "execution_count": 2,
   "metadata": {},
   "outputs": [
    {
     "data": {
      "text/plain": [
       "'/pylon5/mc5plqp/jih8/Peanut_b2/Peanut_Fiona'"
      ]
     },
     "execution_count": 2,
     "metadata": {},
     "output_type": "execute_result"
    }
   ],
   "source": [
    "pwd"
   ]
  },
  {
   "cell_type": "markdown",
   "metadata": {},
   "source": [
    "## Starting from 10X Dataset"
   ]
  },
  {
   "cell_type": "code",
   "execution_count": 3,
   "metadata": {},
   "outputs": [],
   "source": [
    "raw_adata1 = sc.read_10x_mtx('/pylon5/mc5plqp/jih8/Peanut_b2/1_soupx/strainedCounts_caudate_01',\n",
    "                       var_names='gene_symbols',                  \n",
    "                        cache=True)"
   ]
  },
  {
   "cell_type": "code",
   "execution_count": 4,
   "metadata": {},
   "outputs": [],
   "source": [
    "raw_adata2 = sc.read_10x_mtx('/pylon5/mc5plqp/jih8/Peanut_b2/1_soupx/strainedCounts_nacc_02',\n",
    "                       var_names='gene_symbols',                  \n",
    "                        cache=True)"
   ]
  },
  {
   "cell_type": "code",
   "execution_count": 5,
   "metadata": {},
   "outputs": [],
   "source": [
    "raw_adata3 = sc.read_10x_mtx('/pylon5/mc5plqp/jih8/Peanut_b2/1_soupx/strainedCounts_putamen_3',\n",
    "                       var_names='gene_symbols',                 \n",
    "                        cache=True)"
   ]
  },
  {
   "cell_type": "code",
   "execution_count": 6,
   "metadata": {},
   "outputs": [],
   "source": [
    "raw_adata4 = sc.read_10x_mtx('/pylon5/mc5plqp/jih8/Peanut_b2/1_soupx/strainedCounts_caudate_04',\n",
    "                       var_names='gene_symbols',                  \n",
    "                        cache=True)"
   ]
  },
  {
   "cell_type": "code",
   "execution_count": 7,
   "metadata": {},
   "outputs": [],
   "source": [
    "raw_adata5 = sc.read_10x_mtx('/pylon5/mc5plqp/jih8/Peanut_b2/1_soupx/strainedCounts_nacc_5',\n",
    "                       var_names='gene_symbols',                  \n",
    "                        cache=True)"
   ]
  },
  {
   "cell_type": "code",
   "execution_count": 8,
   "metadata": {},
   "outputs": [],
   "source": [
    "raw_adata6 = sc.read_10x_mtx('/pylon5/mc5plqp/jih8/Peanut_b2/1_soupx/strainedCounts_putamen_6',\n",
    "                       var_names='gene_symbols',                  \n",
    "                        cache=True)"
   ]
  },
  {
   "cell_type": "code",
   "execution_count": 9,
   "metadata": {},
   "outputs": [],
   "source": [
    "raw_adata7 = sc.read_10x_mtx('/pylon5/mc5plqp/jih8/tom_fiona/new_ref/cellrangercountedfiles/nacc/filtered_feature_bc_matrix',\n",
    "                       var_names='gene_symbols',                  \n",
    "                        cache=True)"
   ]
  },
  {
   "cell_type": "code",
   "execution_count": 10,
   "metadata": {},
   "outputs": [],
   "source": [
    "raw_adata8 = sc.read_10x_mtx('/pylon5/mc5plqp/jih8/tom_fiona/new_ref/cellrangercountedfiles/caudate/filtered_feature_bc_matrix',\n",
    "                       var_names='gene_symbols',                  \n",
    "                        cache=True)"
   ]
  },
  {
   "cell_type": "code",
   "execution_count": 11,
   "metadata": {},
   "outputs": [],
   "source": [
    "raw_adata9 = sc.read_10x_mtx('/pylon5/mc5plqp/jih8/tom_fiona/new_ref/cellrangercountedfiles/putamen/filtered_feature_bc_matrix',\n",
    "                       var_names='gene_symbols',                  \n",
    "                        cache=True)"
   ]
  },
  {
   "cell_type": "code",
   "execution_count": 12,
   "metadata": {
    "scrolled": true
   },
   "outputs": [
    {
     "data": {
      "text/plain": [
       "AnnData object with n_obs × n_vars = 85299 × 53573 \n",
       "    obs: 'batch'\n",
       "    var: 'gene_ids-0', 'gene_ids-1', 'gene_ids-2', 'gene_ids-3', 'gene_ids-4', 'gene_ids-5', 'gene_ids-6', 'feature_types-6', 'gene_ids-7', 'feature_types-7', 'gene_ids-8', 'feature_types-8'"
      ]
     },
     "execution_count": 12,
     "metadata": {},
     "output_type": "execute_result"
    }
   ],
   "source": [
    "#join data together\n",
    "raw_adata_ori = raw_adata1.concatenate(raw_adata2, raw_adata3,raw_adata4, raw_adata5,raw_adata6,raw_adata7,raw_adata8,raw_adata9)\n",
    "raw_adata_ori"
   ]
  },
  {
   "cell_type": "code",
   "execution_count": 13,
   "metadata": {},
   "outputs": [
    {
     "data": {
      "text/plain": [
       "AnnData object with n_obs × n_vars = 85299 × 53573 \n",
       "    obs: 'batch', 'cell_id'\n",
       "    var: 'gene_ids-0', 'gene_ids-1', 'gene_ids-2', 'gene_ids-3', 'gene_ids-4', 'gene_ids-5', 'gene_ids-6', 'feature_types-6', 'gene_ids-7', 'feature_types-7', 'gene_ids-8', 'feature_types-8'"
      ]
     },
     "execution_count": 13,
     "metadata": {},
     "output_type": "execute_result"
    }
   ],
   "source": [
    "#give cells (number ids)\n",
    "raw_adata_ori.obs['cell_id'] = range(raw_adata_ori.obs.shape[0])\n",
    "raw_adata_ori"
   ]
  },
  {
   "cell_type": "code",
   "execution_count": 14,
   "metadata": {},
   "outputs": [
    {
     "data": {
      "text/plain": [
       "AnnData object with n_obs × n_vars = 85299 × 53573 \n",
       "    obs: 'batch', 'cell_id', 'sample_names'\n",
       "    var: 'gene_ids-0', 'gene_ids-1', 'gene_ids-2', 'gene_ids-3', 'gene_ids-4', 'gene_ids-5', 'gene_ids-6', 'feature_types-6', 'gene_ids-7', 'feature_types-7', 'gene_ids-8', 'feature_types-8'"
      ]
     },
     "execution_count": 14,
     "metadata": {},
     "output_type": "execute_result"
    }
   ],
   "source": [
    "#give another colum \n",
    "sample_ids = list(map(int,raw_adata_ori.obs['batch']))\n",
    "sample_names = ['caudate_01','nacc_01','putamen_01','caudate_02','nacc_02','putamen_02','Nacc_Fiona','Caudate_Fiona','Putamen_Fiona']\n",
    "sample_names = pd.Series([sample_names[sample_id] for sample_id in sample_ids])\n",
    "raw_adata_ori.obs['sample_names'] = list(sample_names)\n",
    "raw_adata_ori"
   ]
  },
  {
   "cell_type": "code",
   "execution_count": 15,
   "metadata": {},
   "outputs": [
    {
     "data": {
      "text/plain": [
       "AnnData object with n_obs × n_vars = 85299 × 53573 \n",
       "    obs: 'batch', 'cell_id', 'sample_names', 'regions'\n",
       "    var: 'gene_ids-0', 'gene_ids-1', 'gene_ids-2', 'gene_ids-3', 'gene_ids-4', 'gene_ids-5', 'gene_ids-6', 'feature_types-6', 'gene_ids-7', 'feature_types-7', 'gene_ids-8', 'feature_types-8'"
      ]
     },
     "execution_count": 15,
     "metadata": {},
     "output_type": "execute_result"
    }
   ],
   "source": [
    "#give another colum \n",
    "sample_ids = list(map(int,raw_adata_ori.obs['batch']))\n",
    "region_names = ['caudate','nacc','putamen','caudate','nacc','putamen','nacc_Fiona','caudate_Fiona','putamen_Fiona']\n",
    "region_names = pd.Series([region_names[sample_id] for sample_id in sample_ids])\n",
    "raw_adata_ori.obs['regions'] = list(region_names)\n",
    "raw_adata_ori"
   ]
  },
  {
   "cell_type": "markdown",
   "metadata": {},
   "source": [
    "Doublet removal by doubledetection"
   ]
  },
  {
   "cell_type": "code",
   "execution_count": 16,
   "metadata": {},
   "outputs": [
    {
     "data": {
      "application/vnd.jupyter.widget-view+json": {
       "model_id": "8b5a355b4bb34bf2b4a67146295939d8",
       "version_major": 2,
       "version_minor": 0
      },
      "text/plain": [
       "HBox(children=(IntProgress(value=0, max=25), HTML(value='')))"
      ]
     },
     "metadata": {},
     "output_type": "display_data"
    },
    {
     "name": "stdout",
     "output_type": "stream",
     "text": [
      "\n"
     ]
    }
   ],
   "source": [
    "import doubletdetection\n",
    "clf = doubletdetection.BoostClassifier()\n",
    "doublets = clf.fit(raw_adata_ori.X).predict()\n",
    "raw_adata_ori.obs['doublet'] = pd.Categorical(doublets.astype(bool))\n",
    "raw_adata_ori = raw_adata_ori[np.logical_not(list(raw_adata_ori.obs['doublet']))]"
   ]
  },
  {
   "cell_type": "code",
   "execution_count": 17,
   "metadata": {},
   "outputs": [
    {
     "data": {
      "text/plain": [
       "View of AnnData object with n_obs × n_vars = 80902 × 53573 \n",
       "    obs: 'batch', 'cell_id', 'sample_names', 'regions', 'doublet'\n",
       "    var: 'gene_ids-0', 'gene_ids-1', 'gene_ids-2', 'gene_ids-3', 'gene_ids-4', 'gene_ids-5', 'gene_ids-6', 'feature_types-6', 'gene_ids-7', 'feature_types-7', 'gene_ids-8', 'feature_types-8'"
      ]
     },
     "execution_count": 17,
     "metadata": {},
     "output_type": "execute_result"
    }
   ],
   "source": [
    "raw_adata = raw_adata_ori\n",
    "raw_adata"
   ]
  },
  {
   "cell_type": "code",
   "execution_count": 18,
   "metadata": {},
   "outputs": [
    {
     "data": {
      "text/plain": [
       "'/pylon5/mc5plqp/jih8/Peanut_b2/Peanut_Fiona'"
      ]
     },
     "execution_count": 18,
     "metadata": {},
     "output_type": "execute_result"
    }
   ],
   "source": [
    "pwd"
   ]
  },
  {
   "cell_type": "code",
   "execution_count": 19,
   "metadata": {
    "scrolled": true
   },
   "outputs": [
    {
     "name": "stderr",
     "output_type": "stream",
     "text": [
      "Trying to set attribute `.obs` of view, making a copy.\n",
      "... storing 'sample_names' as categorical\n",
      "Trying to set attribute `.obs` of view, making a copy.\n",
      "... storing 'regions' as categorical\n",
      "Trying to set attribute `.var` of view, making a copy.\n",
      "... storing 'feature_types-6' as categorical\n",
      "Trying to set attribute `.var` of view, making a copy.\n",
      "... storing 'feature_types-7' as categorical\n",
      "Trying to set attribute `.var` of view, making a copy.\n",
      "... storing 'feature_types-8' as categorical\n"
     ]
    }
   ],
   "source": [
    "AnnData.write(raw_adata, filename='/pylon5/mc5plqp/jih8/Peanut_b2/Peanut_Fiona/raw_adata_afterDB_beforePre_SoupX.h5ad', compression=None, compression_opts=None, force_dense=None)"
   ]
  }
 ],
 "metadata": {
  "kernelspec": {
   "display_name": "Python 3",
   "language": "python",
   "name": "python3"
  },
  "language_info": {
   "codemirror_mode": {
    "name": "ipython",
    "version": 3
   },
   "file_extension": ".py",
   "mimetype": "text/x-python",
   "name": "python",
   "nbconvert_exporter": "python",
   "pygments_lexer": "ipython3",
   "version": "3.8.3"
  }
 },
 "nbformat": 4,
 "nbformat_minor": 2
}
