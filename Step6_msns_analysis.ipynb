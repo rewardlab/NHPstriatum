{
 "cells": [
  {
   "cell_type": "code",
   "execution_count": null,
   "metadata": {},
   "outputs": [],
   "source": [
    "library(Seurat)\n",
    "library(dplyr)\n",
    "library(patchwork)\n",
    "library(RColorBrewer)\n",
    "library(wesanderson)\n",
    "library(ggplot2)"
   ]
  },
  {
   "cell_type": "code",
   "execution_count": null,
   "metadata": {},
   "outputs": [],
   "source": [
    "nuclei <- readRDS(\"full_nuclei.rds\")\n",
    "#islolate MSNs\n",
    "isolatedMSNs <- subset(nuclei, idents = 'MSNs')\n",
    "#get rid of poor quality cells\n",
    "msns <- subset(isolatedMSNs, subset = nFeature_RNA > 200 & nFeature_RNA > 2500)"
   ]
  },
  {
   "cell_type": "code",
   "execution_count": null,
   "metadata": {},
   "outputs": [],
   "source": [
    "#redo PCA\n",
    "msns <- FindVariableFeatures(object = msns)\n",
    "msns <- RunPCA(msns, features = VariableFeatures(object = msns))"
   ]
  },
  {
   "cell_type": "code",
   "execution_count": null,
   "metadata": {},
   "outputs": [],
   "source": [
    "#redo umap\n",
    "msns <- FindNeighbors(msns, dims = 1:15)\n",
    "msns <- RunUMAP(msns, dims = 1:15)"
   ]
  },
  {
   "cell_type": "code",
   "execution_count": null,
   "metadata": {},
   "outputs": [],
   "source": [
    "# the clustering parameter was optimized based on seperation of NUDAP from D1H\n",
    "msns <- FindClusters(msns, resolution = 0.3)\n",
    "head(Idents(msns), 5)"
   ]
  },
  {
   "cell_type": "code",
   "execution_count": null,
   "metadata": {},
   "outputs": [],
   "source": [
    "#ClusterPlot\n",
    "DimPlot(msns, reduction = \"umap\", label = TRUE, repel = TRUE)"
   ]
  },
  {
   "cell_type": "code",
   "execution_count": null,
   "metadata": {},
   "outputs": [],
   "source": [
    "#We are not sure of the identity of this small cluster\n",
    "msns <- SubsetData(object = msns, ident.remove = \"11\")"
   ]
  },
  {
   "cell_type": "code",
   "execution_count": null,
   "metadata": {
    "lines_to_next_cell": 2
   },
   "outputs": [],
   "source": [
    "#AnimalPlot\n",
    "DimPlot(msns, reduction = \"umap\", group.by = \"monkey\")"
   ]
  },
  {
   "cell_type": "code",
   "execution_count": null,
   "metadata": {},
   "outputs": [],
   "source": [
    "#RegionPlot\n",
    "DimPlot(msns, reduction = \"umap\", group.by = \"region_name\")"
   ]
  },
  {
   "cell_type": "code",
   "execution_count": null,
   "metadata": {},
   "outputs": [],
   "source": [
    "#ClusterPlot\n",
    "DimPlot(msns, reduction = \"umap\", label = TRUE, repel = TRUE)"
   ]
  },
  {
   "cell_type": "code",
   "execution_count": null,
   "metadata": {
    "lines_to_next_cell": 2
   },
   "outputs": [],
   "source": [
    "Idents(object = msns) <- 'integrated_snn_res.0.3'\n",
    "msns <- RenameIdents(object = msns,'0' = 'D1-Matrix','1' = 'D2-Matrix','2' = 'D2-Matrix','3' = 'D1-Matrix', '6' = 'D1-Striosome','7' = 'D2-Striosome', '4' = 'D1-Shell/OT','5' = 'D2-Shell/OT','8' = 'D1-NUDAP','9' = 'D1-ICj','10' = 'D1/D2-Hybrid')\n",
    "msns@meta.data$MSN_type = Idents(object = msns)"
   ]
  },
  {
   "cell_type": "code",
   "execution_count": null,
   "metadata": {},
   "outputs": [],
   "source": [
    "#ClusterPlot\n",
    "DimPlot(msns,reduction = \"umap\",group.by = \"MSN_type\", label = TRUE, repel = TRUE)"
   ]
  },
  {
   "cell_type": "code",
   "execution_count": null,
   "metadata": {},
   "outputs": [],
   "source": [
    "DimPlot(msns,reduction = \"umap\", cols = brewer.pal(10,\"Paired\"))"
   ]
  },
  {
   "cell_type": "code",
   "execution_count": null,
   "metadata": {},
   "outputs": [],
   "source": [
    "DimPlot(msns, group.by = \"region_name\", cols = brewer.pal(3,\"Accent\"))"
   ]
  },
  {
   "cell_type": "code",
   "execution_count": null,
   "metadata": {},
   "outputs": [],
   "source": [
    "FeaturePlot(msns, features = c(\"DRD2\"))+scale_fill_gradientn(colors = brewer.pal(5,\"Blues\")) "
   ]
  },
  {
   "cell_type": "code",
   "execution_count": null,
   "metadata": {},
   "outputs": [],
   "source": [
    "FeaturePlot(msns, features = c(\"DRD1\"))+scale_fill_gradientn(colors = brewer.pal(5,\"Blues\")) "
   ]
  },
  {
   "cell_type": "code",
   "execution_count": null,
   "metadata": {},
   "outputs": [],
   "source": [
    "FeaturePlot(msns, features = c(\"CASZ1\"))+scale_fill_gradientn(colors = brewer.pal(5,\"Blues\")) "
   ]
  },
  {
   "cell_type": "code",
   "execution_count": null,
   "metadata": {},
   "outputs": [],
   "source": [
    "FeaturePlot(msns, features = c(\"DRD1\", \"TAC1\",\"DRD2\",\"PENK\",\"RXFP1\", \"CPNE4\"), blend = FALSE)+scale_fill_gradientn(colors = brewer.pal(5,\"Blues\")) "
   ]
  },
  {
   "cell_type": "code",
   "execution_count": null,
   "metadata": {},
   "outputs": [],
   "source": [
    "FeaturePlot(msns, features = c(\"FOXP2\", \"SEMA5B\",\"TSHZ1\", \"OPRM1\", \"KHDRBS3\",\"EPHA4\"), blend = FALSE)+scale_fill_gradientn(colors = brewer.pal(5,\"Blues\")) "
   ]
  },
  {
   "cell_type": "code",
   "execution_count": null,
   "metadata": {
    "lines_to_next_cell": 2
   },
   "outputs": [],
   "source": [
    "FeaturePlot(msns, features = c(\"KHDRBS2\",\"GDA\",\"KCNIP1\",\"BACH2\", \"KHDRBS3\",\"FAM163A\",\"STXBP6\"), blend = FALSE)+scale_fill_gradientn(colors = brewer.pal(5,\"Blues\")) "
   ]
  },
  {
   "cell_type": "code",
   "execution_count": null,
   "metadata": {},
   "outputs": [],
   "source": [
    "FeaturePlot(msns, features = c(\"GRIA4\",\"GREB1L\",\"ARHGAP6\"), blend = FALSE)+scale_fill_gradientn(colors = brewer.pal(5,\"Blues\")) "
   ]
  },
  {
   "cell_type": "code",
   "execution_count": null,
   "metadata": {},
   "outputs": [],
   "source": [
    "Idents(object = msns) <- 'MSN_type'\n",
    "my_levels <- c('D2-Matrix','D1-Matrix','D2-Striosome','D1-Striosome','D2-Shell/OT','D1-Shell/OT','D1-ICj','D1-NUDAP','D1/D2-Hybrid')\n",
    "Idents(msns) <- factor(Idents(msns), levels= my_levels)\n",
    "\n",
    "msns.markers <- FindAllMarkers(msns, only.pos = TRUE, min.pct = 0.25, logfc.threshold = 0.25)\n",
    "msns.markers %>% group_by(cluster) %>% top_n(n = 2, wt = avg_logFC)\n",
    "top10 <- msns.markers %>% group_by(cluster) %>% top_n(n = 10, wt = avg_logFC)\n",
    "#DoHeatmap(msns, features = top10$gene, disp.min = -2, disp.max = 2, group.colors = brewer.pal(10,\"Paired\")) +scale_fill_gradientn(colors = brewer.pal(9,\"PuOr\"))\n",
    "\n"
   ]
  },
  {
   "cell_type": "code",
   "execution_count": null,
   "metadata": {},
   "outputs": [],
   "source": [
    "unique(msns$MSN_type)"
   ]
  },
  {
   "cell_type": "code",
   "execution_count": null,
   "metadata": {},
   "outputs": [],
   "source": [
    "Idents(object = msns) <- 'MSN_type'\n",
    "my_levels <- c('D2-Matrix','D1-Matrix','D2-Striosome','D1-Striosome','D2-Shell/OT','D1-Shell/OT','D1-ICj','D1-NUDAP','D1/D2-Hybrid')\n",
    "Idents(msns) <- factor(Idents(msns), levels= my_levels)"
   ]
  },
  {
   "cell_type": "code",
   "execution_count": null,
   "metadata": {},
   "outputs": [],
   "source": [
    "DoHeatmap(subset(msns, downsample = 200),features = top10$gene, disp.min = -2, disp.max = 2, group.colors = brewer.pal(10,\"Paired\")) +scale_fill_gradientn(colors = brewer.pal(9,\"PuOr\"))"
   ]
  },
  {
   "cell_type": "code",
   "execution_count": null,
   "metadata": {},
   "outputs": [],
   "source": []
  },
  {
   "cell_type": "code",
   "execution_count": null,
   "metadata": {},
   "outputs": [],
   "source": []
  }
 ],
 "metadata": {
  "jupytext": {
   "cell_metadata_filter": "-all",
   "notebook_metadata_filter": "-all",
   "text_representation": {
    "extension": ".R",
    "format_name": "light"
   }
  },
  "kernelspec": {
   "display_name": "R",
   "language": "R",
   "name": "ir"
  }
 },
 "nbformat": 4,
 "nbformat_minor": 4
}
